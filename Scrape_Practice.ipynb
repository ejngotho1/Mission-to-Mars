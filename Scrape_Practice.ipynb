{
 "cells": [
  {
   "cell_type": "code",
   "execution_count": 6,
   "metadata": {},
   "outputs": [],
   "source": [
    "from splinter import Browser\n",
    "from bs4 import BeautifulSoup as soup\n",
    "import pandas as pd\n",
    "from webdriver_manager.chrome import ChromeDriverManager"
   ]
  },
  {
   "cell_type": "code",
   "execution_count": 18,
   "metadata": {},
   "outputs": [
    {
     "name": "stderr",
     "output_type": "stream",
     "text": [
      "[WDM] - ====== WebDriver manager ======\n",
      "[WDM] - Current google-chrome version is 89.0.4389\n",
      "[WDM] - Get LATEST driver version for 89.0.4389\n",
      "[WDM] - Get LATEST driver version for 89.0.4389\n"
     ]
    },
    {
     "name": "stdout",
     "output_type": "stream",
     "text": [
      "\n",
      "\n"
     ]
    },
    {
     "name": "stderr",
     "output_type": "stream",
     "text": [
      "[WDM] - Trying to download new driver from https://chromedriver.storage.googleapis.com/89.0.4389.23/chromedriver_win32.zip\n",
      "[WDM] - Driver has been saved in cache [C:\\Users\\Edgar\\.wdm\\drivers\\chromedriver\\win32\\89.0.4389.23]\n"
     ]
    }
   ],
   "source": [
    "# lerts set and excutable path and initialize the browser\n",
    "# we do so by setting up splinter--creating a splinter instance\n",
    "\n",
    "executable_path = {'executable_path': ChromeDriverManager().install()}\n",
    "browser = Browser('chrome', **executable_path, headless=False)\n"
   ]
  },
  {
   "cell_type": "code",
   "execution_count": 8,
   "metadata": {},
   "outputs": [],
   "source": [
    "# using quotes to scrape webpge---will scrape heading/title --Top 10 Tags\n",
    "# we first visit the site --Tags to Scrape\n",
    "url = 'http://quotes.toscrape.com/'\n",
    "browser.visit(url)"
   ]
  },
  {
   "cell_type": "code",
   "execution_count": 10,
   "metadata": {},
   "outputs": [],
   "source": [
    "# now we will parse html i.e extract information from the html --- using beautifulsoup\n",
    "# BeautifulSoup looks into components, accesses them and then stores them as objects\n",
    "\n",
    "html = browser.html\n",
    "html_soup = soup(html, 'html.parser')     ## this is object created by soup"
   ]
  },
  {
   "cell_type": "code",
   "execution_count": 11,
   "metadata": {},
   "outputs": [
    {
     "data": {
      "text/plain": [
       "'Top Ten tags'"
      ]
     },
     "execution_count": 11,
     "metadata": {},
     "output_type": "execute_result"
    }
   ],
   "source": [
    "# lets now find the title and extract it --- parse the title--scrape the title\n",
    "title = html_soup.find('h2').text\n",
    "\n",
    "title           "
   ]
  },
  {
   "cell_type": "code",
   "execution_count": 13,
   "metadata": {},
   "outputs": [
    {
     "name": "stdout",
     "output_type": "stream",
     "text": [
      "love\n",
      "inspirational\n",
      "life\n",
      "humor\n",
      "books\n",
      "reading\n",
      "friendship\n",
      "friends\n",
      "truth\n",
      "simile\n"
     ]
    }
   ],
   "source": [
    "# lets scrape all tags\n",
    "# we will highlight <div container tag.\n",
    "# div has two classes => col-md-4 , a bootstrap(bootstrap gives functionality)\n",
    "# col-md-4 is a grid layout bootstrap\n",
    "# another class is the customized 'tags-box'\n",
    "# expanding the tag-box (<div) we find list of <span --which expand to <tag-item classes followed by <a/> elements\n",
    "\n",
    "# scrape tag-box\n",
    "tag_box = html_soup.find('div', class_ = 'tags-box')\n",
    "\n",
    "# scrape forr ALL <a tags in the <div variable created when we scraped <div container\n",
    "# remember <a tags are contained in the <div container\n",
    "tags = tag_box.find_all('a', class_ = 'tag')\n",
    "\n",
    "# lets now use for loop to iterate through 'tags' variable, strip html code and return text for each tag\n",
    "for tag in tags:\n",
    "    word = tag.text        # tag.text strips html code and stores the result in a variable 'word'\n",
    "    print (word)"
   ]
  },
  {
   "cell_type": "markdown",
   "metadata": {},
   "source": [
    "## we will scrape over multiple pages"
   ]
  },
  {
   "cell_type": "code",
   "execution_count": 19,
   "metadata": {},
   "outputs": [],
   "source": [
    "# lets start by assigning url to a variable called 'url' -- then tell splinter to visit webpage\n",
    "url = 'http://quotes.toscrape.com'\n",
    "browser.visit(url)"
   ]
  },
  {
   "cell_type": "code",
   "execution_count": 23,
   "metadata": {},
   "outputs": [
    {
     "name": "stdout",
     "output_type": "stream",
     "text": [
      "page: -------------\n",
      "“The world as we have created it is a process of our thinking. It cannot be changed without changing our thinking.”\n",
      "page: -------------\n",
      "“It is our choices, Harry, that show what we truly are, far more than our abilities.”\n",
      "page: -------------\n",
      "“There are only two ways to live your life. One is as though nothing is a miracle. The other is as though everything is a miracle.”\n",
      "page: -------------\n",
      "“The person, be it gentleman or lady, who has not pleasure in a good novel, must be intolerably stupid.”\n",
      "page: -------------\n",
      "“Imperfection is beauty, madness is genius and it's better to be absolutely ridiculous than absolutely boring.”\n",
      "page: -------------\n",
      "“Try not to become a man of success. Rather become a man of value.”\n",
      "page: -------------\n",
      "“It is better to be hated for what you are than to be loved for what you are not.”\n",
      "page: -------------\n",
      "“I have not failed. I've just found 10,000 ways that won't work.”\n",
      "page: -------------\n",
      "“A woman is like a tea bag; you never know how strong it is until it's in hot water.”\n",
      "page: -------------\n",
      "“A day without sunshine is like, you know, night.”\n",
      "page: -------------\n",
      "“The world as we have created it is a process of our thinking. It cannot be changed without changing our thinking.”\n",
      "page: -------------\n",
      "“It is our choices, Harry, that show what we truly are, far more than our abilities.”\n",
      "page: -------------\n",
      "“There are only two ways to live your life. One is as though nothing is a miracle. The other is as though everything is a miracle.”\n",
      "page: -------------\n",
      "“The person, be it gentleman or lady, who has not pleasure in a good novel, must be intolerably stupid.”\n",
      "page: -------------\n",
      "“Imperfection is beauty, madness is genius and it's better to be absolutely ridiculous than absolutely boring.”\n",
      "page: -------------\n",
      "“Try not to become a man of success. Rather become a man of value.”\n",
      "page: -------------\n",
      "“It is better to be hated for what you are than to be loved for what you are not.”\n",
      "page: -------------\n",
      "“I have not failed. I've just found 10,000 ways that won't work.”\n",
      "page: -------------\n",
      "“A woman is like a tea bag; you never know how strong it is until it's in hot water.”\n",
      "page: -------------\n",
      "“A day without sunshine is like, you know, night.”\n",
      "page: -------------\n",
      "“The world as we have created it is a process of our thinking. It cannot be changed without changing our thinking.”\n",
      "page: -------------\n",
      "“It is our choices, Harry, that show what we truly are, far more than our abilities.”\n",
      "page: -------------\n",
      "“There are only two ways to live your life. One is as though nothing is a miracle. The other is as though everything is a miracle.”\n",
      "page: -------------\n",
      "“The person, be it gentleman or lady, who has not pleasure in a good novel, must be intolerably stupid.”\n",
      "page: -------------\n",
      "“Imperfection is beauty, madness is genius and it's better to be absolutely ridiculous than absolutely boring.”\n",
      "page: -------------\n",
      "“Try not to become a man of success. Rather become a man of value.”\n",
      "page: -------------\n",
      "“It is better to be hated for what you are than to be loved for what you are not.”\n",
      "page: -------------\n",
      "“I have not failed. I've just found 10,000 ways that won't work.”\n",
      "page: -------------\n",
      "“A woman is like a tea bag; you never know how strong it is until it's in hot water.”\n",
      "page: -------------\n",
      "“A day without sunshine is like, you know, night.”\n",
      "page: -------------\n",
      "“The world as we have created it is a process of our thinking. It cannot be changed without changing our thinking.”\n",
      "page: -------------\n",
      "“It is our choices, Harry, that show what we truly are, far more than our abilities.”\n",
      "page: -------------\n",
      "“There are only two ways to live your life. One is as though nothing is a miracle. The other is as though everything is a miracle.”\n",
      "page: -------------\n",
      "“The person, be it gentleman or lady, who has not pleasure in a good novel, must be intolerably stupid.”\n",
      "page: -------------\n",
      "“Imperfection is beauty, madness is genius and it's better to be absolutely ridiculous than absolutely boring.”\n",
      "page: -------------\n",
      "“Try not to become a man of success. Rather become a man of value.”\n",
      "page: -------------\n",
      "“It is better to be hated for what you are than to be loved for what you are not.”\n",
      "page: -------------\n",
      "“I have not failed. I've just found 10,000 ways that won't work.”\n",
      "page: -------------\n",
      "“A woman is like a tea bag; you never know how strong it is until it's in hot water.”\n",
      "page: -------------\n",
      "“A day without sunshine is like, you know, night.”\n",
      "page: -------------\n",
      "“The world as we have created it is a process of our thinking. It cannot be changed without changing our thinking.”\n",
      "page: -------------\n",
      "“It is our choices, Harry, that show what we truly are, far more than our abilities.”\n",
      "page: -------------\n",
      "“There are only two ways to live your life. One is as though nothing is a miracle. The other is as though everything is a miracle.”\n",
      "page: -------------\n",
      "“The person, be it gentleman or lady, who has not pleasure in a good novel, must be intolerably stupid.”\n",
      "page: -------------\n",
      "“Imperfection is beauty, madness is genius and it's better to be absolutely ridiculous than absolutely boring.”\n",
      "page: -------------\n",
      "“Try not to become a man of success. Rather become a man of value.”\n",
      "page: -------------\n",
      "“It is better to be hated for what you are than to be loved for what you are not.”\n",
      "page: -------------\n",
      "“I have not failed. I've just found 10,000 ways that won't work.”\n",
      "page: -------------\n",
      "“A woman is like a tea bag; you never know how strong it is until it's in hot water.”\n",
      "page: -------------\n",
      "“A day without sunshine is like, you know, night.”\n"
     ]
    }
   ],
   "source": [
    "# lets loop over five page iteration\n",
    "for x in range(1, 6):\n",
    "    # create html object and store in a variable 'html'\n",
    "    html = browser.html\n",
    "    # tell soup to parse html and store it in a variable 'quote_soup'\n",
    "    quote_soup = soup(html, 'html.parser')\n",
    "    # use Beautiful soup to  find alll <span /> tags whose class is 'text'\n",
    "    quotes = quote_soup.find_all('span', class_ = 'text')\n",
    "    \n",
    "    # lets now iterate through quotes\n",
    "    for quote in quotes:\n",
    "        print('page:', '-------------')\n",
    "        print(quote.text)\n",
    "    \n",
    "    browser.links.find_by_partial_text('Next')\n",
    "    "
   ]
  },
  {
   "cell_type": "code",
   "execution_count": null,
   "metadata": {},
   "outputs": [],
   "source": []
  }
 ],
 "metadata": {
  "kernelspec": {
   "display_name": "PythonData",
   "language": "python",
   "name": "pythondata"
  },
  "language_info": {
   "codemirror_mode": {
    "name": "ipython",
    "version": 3
   },
   "file_extension": ".py",
   "mimetype": "text/x-python",
   "name": "python",
   "nbconvert_exporter": "python",
   "pygments_lexer": "ipython3",
   "version": "3.7.9"
  }
 },
 "nbformat": 4,
 "nbformat_minor": 4
}
